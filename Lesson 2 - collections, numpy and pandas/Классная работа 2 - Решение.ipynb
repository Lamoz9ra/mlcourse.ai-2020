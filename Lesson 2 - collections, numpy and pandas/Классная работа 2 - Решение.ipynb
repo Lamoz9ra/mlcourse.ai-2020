{
 "cells": [
  {
   "cell_type": "markdown",
   "metadata": {},
   "source": [
    "# <center>Тема 2. Углубленные приемы pandas, collections, numpy</center>\n",
    "## <center>Практическое задание. Работа с векторами в библиотеке NumPy</center>"
   ]
  },
  {
   "cell_type": "code",
   "execution_count": 5,
   "metadata": {},
   "outputs": [],
   "source": [
    "import numpy as np\n",
    "import pandas as pd"
   ]
  },
  {
   "cell_type": "markdown",
   "metadata": {},
   "source": [
    "**1. Создайте numpy массив с числами от 100 с шагом в 10, размера 10х5**"
   ]
  },
  {
   "cell_type": "code",
   "execution_count": 6,
   "metadata": {},
   "outputs": [],
   "source": [
    "# Ваш код здесь"
   ]
  },
  {
   "cell_type": "code",
   "execution_count": 7,
   "metadata": {},
   "outputs": [
    {
     "data": {
      "text/plain": [
       "array([[100, 110, 120, 130, 140],\n",
       "       [150, 160, 170, 180, 190],\n",
       "       [200, 210, 220, 230, 240],\n",
       "       [250, 260, 270, 280, 290],\n",
       "       [300, 310, 320, 330, 340],\n",
       "       [350, 360, 370, 380, 390],\n",
       "       [400, 410, 420, 430, 440],\n",
       "       [450, 460, 470, 480, 490],\n",
       "       [500, 510, 520, 530, 540],\n",
       "       [550, 560, 570, 580, 590]])"
      ]
     },
     "execution_count": 7,
     "metadata": {},
     "output_type": "execute_result"
    }
   ],
   "source": [
    "np.arange(100, 600, 10).reshape((10, 5))"
   ]
  },
  {
   "cell_type": "markdown",
   "metadata": {},
   "source": [
    "**2. Создайте numpy массив с числами от 100 с шагом в 10, размера 10х5 заполеннный змейкой**  \n",
    "---------->  \n",
    "<---------  \n",
    "---------->  "
   ]
  },
  {
   "cell_type": "code",
   "execution_count": 8,
   "metadata": {},
   "outputs": [
    {
     "data": {
      "text/plain": [
       "array([[100, 110, 120, 130, 140],\n",
       "       [190, 180, 170, 160, 150],\n",
       "       [200, 210, 220, 230, 240],\n",
       "       [290, 280, 270, 260, 250],\n",
       "       [300, 310, 320, 330, 340],\n",
       "       [390, 380, 370, 360, 350],\n",
       "       [400, 410, 420, 430, 440],\n",
       "       [490, 480, 470, 460, 450],\n",
       "       [500, 510, 520, 530, 540],\n",
       "       [590, 580, 570, 560, 550]])"
      ]
     },
     "execution_count": 8,
     "metadata": {},
     "output_type": "execute_result"
    }
   ],
   "source": [
    "a = np.arange(100, 600, 10).reshape((10, 5))\n",
    "a[1::2] = a[1::2, ::-1]\n",
    "a"
   ]
  },
  {
   "cell_type": "markdown",
   "metadata": {},
   "source": [
    "**3. Вычтите из каждого ряда первого массива соответствующее значение из второго**  \n",
    "Result\n",
    "array([[2, 2, 2],\n",
    "       [2, 2, 2],\n",
    "       [2, 2, 2]])"
   ]
  },
  {
   "cell_type": "code",
   "execution_count": 9,
   "metadata": {},
   "outputs": [],
   "source": [
    "a_2d = np.array([[3,3,3],[4,4,4],[5,5,5]])\n",
    "b_1d = np.array([1,2,3])"
   ]
  },
  {
   "cell_type": "code",
   "execution_count": 10,
   "metadata": {},
   "outputs": [],
   "source": [
    "# Ваш код здесь"
   ]
  },
  {
   "cell_type": "code",
   "execution_count": 15,
   "metadata": {},
   "outputs": [
    {
     "data": {
      "text/plain": [
       "array([[2, 2, 2],\n",
       "       [2, 2, 2],\n",
       "       [2, 2, 2]])"
      ]
     },
     "execution_count": 15,
     "metadata": {},
     "output_type": "execute_result"
    }
   ],
   "source": [
    "a_2d.T - b_1d"
   ]
  },
  {
   "cell_type": "code",
   "execution_count": 16,
   "metadata": {},
   "outputs": [
    {
     "data": {
      "text/plain": [
       "array([[2, 2, 2],\n",
       "       [2, 2, 2],\n",
       "       [2, 2, 2]])"
      ]
     },
     "execution_count": 16,
     "metadata": {},
     "output_type": "execute_result"
    }
   ],
   "source": [
    "a_2d - b_1d[:, None]"
   ]
  },
  {
   "cell_type": "code",
   "execution_count": 17,
   "metadata": {},
   "outputs": [
    {
     "data": {
      "text/plain": [
       "array([[[2, 2, 2],\n",
       "        [2, 2, 2],\n",
       "        [2, 2, 2]]])"
      ]
     },
     "execution_count": 17,
     "metadata": {},
     "output_type": "execute_result"
    }
   ],
   "source": [
    "a_2d - b_1d.reshape(1, 3, 1)"
   ]
  },
  {
   "cell_type": "markdown",
   "metadata": {},
   "source": [
    "**4. Заменить все положительные числа массива на 1, отрицательные на 0**"
   ]
  },
  {
   "cell_type": "code",
   "execution_count": 18,
   "metadata": {},
   "outputs": [],
   "source": [
    "np.random.seed(0)\n",
    "X = np.random.randint(-1000, 1000, size=(3000,3000))"
   ]
  },
  {
   "cell_type": "code",
   "execution_count": 19,
   "metadata": {},
   "outputs": [],
   "source": [
    "# Ваш код здесь"
   ]
  },
  {
   "cell_type": "code",
   "execution_count": 20,
   "metadata": {},
   "outputs": [
    {
     "data": {
      "text/plain": [
       "array([[-316, -441,  653, ...,  773,  961, -475],\n",
       "       [-187,  456, -432, ...,  168,  273, -169],\n",
       "       [ 936,  475, -128, ...,  408, -892, -310],\n",
       "       ...,\n",
       "       [-921,  396,  457, ...,  646, -450, -387],\n",
       "       [ 645,  943, -435, ...,  863, -920,  790],\n",
       "       [ 641, -548,  379, ...,  347,  -67, -352]])"
      ]
     },
     "execution_count": 20,
     "metadata": {},
     "output_type": "execute_result"
    }
   ],
   "source": [
    "X"
   ]
  },
  {
   "cell_type": "code",
   "execution_count": 21,
   "metadata": {},
   "outputs": [
    {
     "data": {
      "text/plain": [
       "array([[0., 0., 1., ..., 1., 1., 0.],\n",
       "       [0., 1., 0., ..., 1., 1., 0.],\n",
       "       [1., 1., 0., ..., 1., 0., 0.],\n",
       "       ...,\n",
       "       [0., 1., 1., ..., 1., 0., 0.],\n",
       "       [1., 1., 0., ..., 1., 0., 1.],\n",
       "       [1., 0., 1., ..., 1., 0., 0.]])"
      ]
     },
     "execution_count": 21,
     "metadata": {},
     "output_type": "execute_result"
    }
   ],
   "source": [
    "np.ones(X.shape) * (X > 0)"
   ]
  },
  {
   "cell_type": "markdown",
   "metadata": {},
   "source": [
    "**5. Создать numpy массив нулей размера NхM c границей из единиц, шириной K**"
   ]
  },
  {
   "cell_type": "code",
   "execution_count": 22,
   "metadata": {},
   "outputs": [],
   "source": [
    "N = 10\n",
    "M = 6\n",
    "K = 2"
   ]
  },
  {
   "cell_type": "code",
   "execution_count": 23,
   "metadata": {},
   "outputs": [],
   "source": [
    "# Ваш код здесь"
   ]
  },
  {
   "cell_type": "code",
   "execution_count": 24,
   "metadata": {},
   "outputs": [
    {
     "data": {
      "text/plain": [
       "array([[1., 1., 1., 1., 1., 1.],\n",
       "       [1., 1., 1., 1., 1., 1.],\n",
       "       [1., 1., 0., 0., 1., 1.],\n",
       "       [1., 1., 0., 0., 1., 1.],\n",
       "       [1., 1., 0., 0., 1., 1.],\n",
       "       [1., 1., 0., 0., 1., 1.],\n",
       "       [1., 1., 0., 0., 1., 1.],\n",
       "       [1., 1., 0., 0., 1., 1.],\n",
       "       [1., 1., 1., 1., 1., 1.],\n",
       "       [1., 1., 1., 1., 1., 1.]])"
      ]
     },
     "execution_count": 24,
     "metadata": {},
     "output_type": "execute_result"
    }
   ],
   "source": [
    "a = np.ones((N, M))\n",
    "a[K:N-K, K:M-K] = 0\n",
    "a"
   ]
  },
  {
   "cell_type": "markdown",
   "metadata": {},
   "source": [
    "**6. Вывести все name и среднее число заказов типа 2 по месяцам, для которых общая сумма заказов за месяц, в которых число заказов типа 1 больше числа заказов типа 2, превышает среднюю сумму заказов по всем месяцам.**  \n",
    "Дополнительно: не использовать присваивание"
   ]
  },
  {
   "cell_type": "code",
   "execution_count": 25,
   "metadata": {},
   "outputs": [
    {
     "data": {
      "text/html": [
       "<div>\n",
       "<style scoped>\n",
       "    .dataframe tbody tr th:only-of-type {\n",
       "        vertical-align: middle;\n",
       "    }\n",
       "\n",
       "    .dataframe tbody tr th {\n",
       "        vertical-align: top;\n",
       "    }\n",
       "\n",
       "    .dataframe thead th {\n",
       "        text-align: right;\n",
       "    }\n",
       "</style>\n",
       "<table border=\"1\" class=\"dataframe\">\n",
       "  <thead>\n",
       "    <tr style=\"text-align: right;\">\n",
       "      <th></th>\n",
       "      <th>name</th>\n",
       "      <th>date</th>\n",
       "      <th>order_type_1</th>\n",
       "      <th>order_type_2</th>\n",
       "    </tr>\n",
       "  </thead>\n",
       "  <tbody>\n",
       "    <tr>\n",
       "      <th>0</th>\n",
       "      <td>1</td>\n",
       "      <td>2019-01-01 00:00:00.000000000</td>\n",
       "      <td>9.0</td>\n",
       "      <td>61.0</td>\n",
       "    </tr>\n",
       "    <tr>\n",
       "      <th>1</th>\n",
       "      <td>6</td>\n",
       "      <td>2019-01-01 08:46:07.567567567</td>\n",
       "      <td>47.0</td>\n",
       "      <td>NaN</td>\n",
       "    </tr>\n",
       "    <tr>\n",
       "      <th>2</th>\n",
       "      <td>6</td>\n",
       "      <td>2019-01-01 17:32:15.135135135</td>\n",
       "      <td>54.0</td>\n",
       "      <td>NaN</td>\n",
       "    </tr>\n",
       "    <tr>\n",
       "      <th>3</th>\n",
       "      <td>9</td>\n",
       "      <td>2019-01-02 02:18:22.702702702</td>\n",
       "      <td>83.0</td>\n",
       "      <td>NaN</td>\n",
       "    </tr>\n",
       "    <tr>\n",
       "      <th>4</th>\n",
       "      <td>0</td>\n",
       "      <td>2019-01-02 11:04:30.270270270</td>\n",
       "      <td>18.0</td>\n",
       "      <td>NaN</td>\n",
       "    </tr>\n",
       "  </tbody>\n",
       "</table>\n",
       "</div>"
      ],
      "text/plain": [
       "   name                          date  order_type_1  order_type_2\n",
       "0     1 2019-01-01 00:00:00.000000000           9.0          61.0\n",
       "1     6 2019-01-01 08:46:07.567567567          47.0           NaN\n",
       "2     6 2019-01-01 17:32:15.135135135          54.0           NaN\n",
       "3     9 2019-01-02 02:18:22.702702702          83.0           NaN\n",
       "4     0 2019-01-02 11:04:30.270270270          18.0           NaN"
      ]
     },
     "execution_count": 25,
     "metadata": {},
     "output_type": "execute_result"
    }
   ],
   "source": [
    "# не менять\n",
    "np.random.seed(17)\n",
    "data = pd.DataFrame({'name': np.random.randint(0, 10, size=1000),\n",
    "                     'date': pd.date_range('2019-01-01', '2020-01-01', periods=1000),\n",
    "                     'order_type_1': np.random.randint(0, 100, size=1000),\n",
    "                     'order_type_2': np.random.randint(0, 100, size=1000)})\n",
    "data.loc[data['order_type_1'] % 5 == 0, 'order_type_1'] = np.nan\n",
    "data.loc[data['order_type_2'] % 3 == 0, 'order_type_2'] = np.nan\n",
    "data.head()\n",
    "\n",
    "# order_type - сумма заказа типа 1 и типа 2 на определенную дату. NaN если заказа не было"
   ]
  },
  {
   "cell_type": "code",
   "execution_count": 26,
   "metadata": {},
   "outputs": [],
   "source": [
    "# Ваш код здесь"
   ]
  },
  {
   "cell_type": "code",
   "execution_count": 28,
   "metadata": {},
   "outputs": [
    {
     "name": "stdout",
     "output_type": "stream",
     "text": [
      "0 6.6\n",
      "1 5.333333333333333\n",
      "2 5.833333333333333\n",
      "3 5.75\n",
      "4 6.4\n",
      "5 5.75\n",
      "6 6.4\n",
      "7 5.666666666666667\n",
      "8 6.0\n",
      "9 4.6\n"
     ]
    }
   ],
   "source": [
    "for n, ndf in (data.groupby(['name', pd.Grouper(freq='M', key='date', closed='right')])\n",
    "                   .agg({'order_type_1': ['sum', 'count'], 'order_type_2': 'count'})\n",
    "                   .groupby('name')):\n",
    "    print(n, (ndf[(ndf['order_type_1', 'count'] > ndf['order_type_2', 'count']) & \n",
    "                  (ndf['order_type_1', 'sum'] > ndf['order_type_1', 'sum']\n",
    "                   .mean())])['order_type_2', 'count'].mean())"
   ]
  },
  {
   "cell_type": "code",
   "execution_count": null,
   "metadata": {},
   "outputs": [],
   "source": []
  },
  {
   "cell_type": "code",
   "execution_count": null,
   "metadata": {},
   "outputs": [],
   "source": []
  }
 ],
 "metadata": {
  "anaconda-cloud": {},
  "kernelspec": {
   "display_name": "Python 3",
   "language": "python",
   "name": "python3"
  },
  "language_info": {
   "codemirror_mode": {
    "name": "ipython",
    "version": 3
   },
   "file_extension": ".py",
   "mimetype": "text/x-python",
   "name": "python",
   "nbconvert_exporter": "python",
   "pygments_lexer": "ipython3",
   "version": "3.8.3"
  },
  "name": "seminar02_practice_pandas_titanic.ipynb"
 },
 "nbformat": 4,
 "nbformat_minor": 4
}
