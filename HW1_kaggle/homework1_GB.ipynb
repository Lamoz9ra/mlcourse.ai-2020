{
 "cells": [
  {
   "cell_type": "markdown",
   "metadata": {},
   "source": [
    "# Домашнее задание №1"
   ]
  },
  {
   "cell_type": "markdown",
   "metadata": {},
   "source": [
    "В этом домашнем задании вы познакомитесь с платформой Kaggle, а также поучаствуете в небольшом сореврновании, которое поможет закрепить вам знания, полученные на наших лекциях.\n",
    "\n",
    "Соревнование можно найти по ссылке: https://www.kaggle.com/c/mytracker-mlhomework1-fall20 \\\n",
    "Для того, чтобы присоединиться к этому соревнованию, перейдите по ссылке: https://www.kaggle.com/t/ebaddc30cce54e329c64f7504b274c2c \\\n",
    "Скачать данные можно во вкладке `Data`, в которой находится 3 файла:\n",
    " - `train.csv` - обучающая выборка\n",
    " - `test.csv` - тестовая выборка\n",
    " - `sampleSubmission.csv` - пример сабмита, который вы должны будете загрузить на Kaggle, чтобы предоставить свое решение (аналогичный файл мы с вами сгенерируем в этом ноутбуке)\n",
    " \n",
    "Описание данных вы можете прочитать также на Kaggle."
   ]
  },
  {
   "cell_type": "markdown",
   "metadata": {},
   "source": [
    "Несколько основных моментов данного домашнего задания:\n",
    " 1. Метрикой является RMSE (Root Mean Square Error, https://en.wikipedia.org/wiki/Root-mean-square_deviation).\n",
    " 2. Тестовая выборка из файла `test.csv` разделена на 2 части: \n",
    "  - __Public Leaderboard__ - во время участия вы можете ориентироваться на этот лидерборд, чтобы оценивать ваше решение, а также видеть несколько наших бенчмарков и решения других участников.\\\n",
    "  **Важный момент**. Оценка на Public Leaderboard строится не на всех примерах из `test.csv`, а только на 60% (каких именно узнать нельзя).\n",
    "  - __Private Leaderboard__ - откроется только после окончания соревнования. Именно по нему мы будем распределять баллы и он состоит из оставшихся 40% примеров из `test.csv`.\n",
    " 3. Мы надеемся на то, что вы будете не только использовать модели машинного обучения, которые мы будем проходить по ходу лекций, но и попробуете сами изучить данные и сделать прогнозы \"руками\". Соревнование будет длиться достаточно долго (до 23.11), тем самым будет неплохо, если вы сможете изучить выданные датасеты, чтобы сделать более качественный прогноз.\n",
    " 4. В день можно отправить до 5 посылок с решением, так что не оставляйте все на последний день.\n",
    " 5. В конце соревнования ТОП10 участников мы попросим прислать рабочий ноутбук с их решением, чтобы убедиться, что никто не пытался сжульничать, так что держите свое решение \"в чистоте\", чтобы по окончанию соревнования его можно было показать нам.\n",
    " 6. В соревновании нет ограничений на модели или подходы, которые вы будете использовать, если они не выходят за рамки данных, предоставленных в данном соревновании."
   ]
  },
  {
   "cell_type": "code",
   "execution_count": 2,
   "metadata": {},
   "outputs": [],
   "source": [
    "import pandas as pd\n",
    "import numpy as np\n",
    "from sklearn.metrics import mean_squared_error\n",
    "import pandas_profiling\n",
    "from pandas_profiling import ProfileReport\n",
    "import matplotlib.pyplot as plt"
   ]
  },
  {
   "cell_type": "code",
   "execution_count": 81,
   "metadata": {},
   "outputs": [],
   "source": [
    "train = pd.read_csv(\"data/train.csv\")\n",
    "test = pd.read_csv(\"data/test.csv\")\n",
    "submission_filename = 'data/sampleSubmission.csv'"
   ]
  },
  {
   "cell_type": "code",
   "execution_count": 4,
   "metadata": {},
   "outputs": [],
   "source": [
    "def percentile(n):\n",
    "    def percentile_(x):\n",
    "        return np.percentile(x, n)\n",
    "    percentile_.__name__ = 'percentile_%s' % n\n",
    "    return percentile_"
   ]
  },
  {
   "cell_type": "code",
   "execution_count": 82,
   "metadata": {},
   "outputs": [
    {
     "data": {
      "text/html": [
       "<div>\n",
       "<style scoped>\n",
       "    .dataframe tbody tr th:only-of-type {\n",
       "        vertical-align: middle;\n",
       "    }\n",
       "\n",
       "    .dataframe tbody tr th {\n",
       "        vertical-align: top;\n",
       "    }\n",
       "\n",
       "    .dataframe thead th {\n",
       "        text-align: right;\n",
       "    }\n",
       "</style>\n",
       "<table border=\"1\" class=\"dataframe\">\n",
       "  <thead>\n",
       "    <tr style=\"text-align: right;\">\n",
       "      <th></th>\n",
       "      <th>Store</th>\n",
       "      <th>DayOfWeek</th>\n",
       "      <th>Date</th>\n",
       "      <th>Sales</th>\n",
       "      <th>Customers</th>\n",
       "      <th>Open</th>\n",
       "      <th>Promo</th>\n",
       "      <th>Holiday</th>\n",
       "    </tr>\n",
       "  </thead>\n",
       "  <tbody>\n",
       "    <tr>\n",
       "      <th>963684</th>\n",
       "      <td>73</td>\n",
       "      <td>1</td>\n",
       "      <td>2016-11-01</td>\n",
       "      <td>0</td>\n",
       "      <td>0</td>\n",
       "      <td>0</td>\n",
       "      <td>0</td>\n",
       "      <td>1.0</td>\n",
       "    </tr>\n",
       "    <tr>\n",
       "      <th>963685</th>\n",
       "      <td>649</td>\n",
       "      <td>1</td>\n",
       "      <td>2016-11-01</td>\n",
       "      <td>0</td>\n",
       "      <td>0</td>\n",
       "      <td>0</td>\n",
       "      <td>0</td>\n",
       "      <td>1.0</td>\n",
       "    </tr>\n",
       "    <tr>\n",
       "      <th>963686</th>\n",
       "      <td>429</td>\n",
       "      <td>1</td>\n",
       "      <td>2016-11-01</td>\n",
       "      <td>0</td>\n",
       "      <td>0</td>\n",
       "      <td>0</td>\n",
       "      <td>0</td>\n",
       "      <td>1.0</td>\n",
       "    </tr>\n",
       "    <tr>\n",
       "      <th>963687</th>\n",
       "      <td>898</td>\n",
       "      <td>1</td>\n",
       "      <td>2016-11-01</td>\n",
       "      <td>0</td>\n",
       "      <td>0</td>\n",
       "      <td>0</td>\n",
       "      <td>0</td>\n",
       "      <td>1.0</td>\n",
       "    </tr>\n",
       "    <tr>\n",
       "      <th>963688</th>\n",
       "      <td>704</td>\n",
       "      <td>1</td>\n",
       "      <td>2016-11-01</td>\n",
       "      <td>0</td>\n",
       "      <td>0</td>\n",
       "      <td>0</td>\n",
       "      <td>0</td>\n",
       "      <td>1.0</td>\n",
       "    </tr>\n",
       "  </tbody>\n",
       "</table>\n",
       "</div>"
      ],
      "text/plain": [
       "        Store  DayOfWeek       Date  Sales  Customers  Open  Promo  Holiday\n",
       "963684     73          1 2016-11-01      0          0     0      0      1.0\n",
       "963685    649          1 2016-11-01      0          0     0      0      1.0\n",
       "963686    429          1 2016-11-01      0          0     0      0      1.0\n",
       "963687    898          1 2016-11-01      0          0     0      0      1.0\n",
       "963688    704          1 2016-11-01      0          0     0      0      1.0"
      ]
     },
     "execution_count": 82,
     "metadata": {},
     "output_type": "execute_result"
    }
   ],
   "source": [
    "train['Date'] =pd.to_datetime(train.Date)\n",
    "train.loc[:,'Holiday'].fillna(0, inplace=True)\n",
    "train.tail()\n"
   ]
  },
  {
   "cell_type": "code",
   "execution_count": 6,
   "metadata": {},
   "outputs": [
    {
     "data": {
      "text/plain": [
       "amax   2019-04-13\n",
       "amin   2016-11-01\n",
       "Name: Date, dtype: datetime64[ns]"
      ]
     },
     "execution_count": 6,
     "metadata": {},
     "output_type": "execute_result"
    }
   ],
   "source": [
    "train['Date'].agg([np.max, np.min])"
   ]
  },
  {
   "cell_type": "code",
   "execution_count": 83,
   "metadata": {},
   "outputs": [
    {
     "data": {
      "text/html": [
       "<div>\n",
       "<style scoped>\n",
       "    .dataframe tbody tr th:only-of-type {\n",
       "        vertical-align: middle;\n",
       "    }\n",
       "\n",
       "    .dataframe tbody tr th {\n",
       "        vertical-align: top;\n",
       "    }\n",
       "\n",
       "    .dataframe thead th {\n",
       "        text-align: right;\n",
       "    }\n",
       "</style>\n",
       "<table border=\"1\" class=\"dataframe\">\n",
       "  <thead>\n",
       "    <tr style=\"text-align: right;\">\n",
       "      <th></th>\n",
       "      <th>Store</th>\n",
       "      <th>DayOfWeek</th>\n",
       "      <th>Date</th>\n",
       "      <th>Sales</th>\n",
       "      <th>Customers</th>\n",
       "      <th>Open</th>\n",
       "      <th>Promo</th>\n",
       "      <th>Holiday</th>\n",
       "    </tr>\n",
       "  </thead>\n",
       "  <tbody>\n",
       "    <tr>\n",
       "      <th>0</th>\n",
       "      <td>704</td>\n",
       "      <td>2</td>\n",
       "      <td>2016-11-02</td>\n",
       "      <td>3697</td>\n",
       "      <td>305</td>\n",
       "      <td>1</td>\n",
       "      <td>0</td>\n",
       "      <td>0.0</td>\n",
       "    </tr>\n",
       "    <tr>\n",
       "      <th>1</th>\n",
       "      <td>767</td>\n",
       "      <td>2</td>\n",
       "      <td>2016-11-02</td>\n",
       "      <td>3389</td>\n",
       "      <td>413</td>\n",
       "      <td>1</td>\n",
       "      <td>0</td>\n",
       "      <td>0.0</td>\n",
       "    </tr>\n",
       "    <tr>\n",
       "      <th>2</th>\n",
       "      <td>187</td>\n",
       "      <td>2</td>\n",
       "      <td>2016-11-02</td>\n",
       "      <td>5062</td>\n",
       "      <td>814</td>\n",
       "      <td>1</td>\n",
       "      <td>0</td>\n",
       "      <td>0.0</td>\n",
       "    </tr>\n",
       "    <tr>\n",
       "      <th>3</th>\n",
       "      <td>163</td>\n",
       "      <td>2</td>\n",
       "      <td>2016-11-02</td>\n",
       "      <td>5995</td>\n",
       "      <td>842</td>\n",
       "      <td>1</td>\n",
       "      <td>0</td>\n",
       "      <td>0.0</td>\n",
       "    </tr>\n",
       "    <tr>\n",
       "      <th>4</th>\n",
       "      <td>941</td>\n",
       "      <td>2</td>\n",
       "      <td>2016-11-02</td>\n",
       "      <td>8178</td>\n",
       "      <td>1008</td>\n",
       "      <td>1</td>\n",
       "      <td>0</td>\n",
       "      <td>0.0</td>\n",
       "    </tr>\n",
       "  </tbody>\n",
       "</table>\n",
       "</div>"
      ],
      "text/plain": [
       "   Store  DayOfWeek       Date  Sales  Customers  Open  Promo  Holiday\n",
       "0    704          2 2016-11-02   3697        305     1      0      0.0\n",
       "1    767          2 2016-11-02   3389        413     1      0      0.0\n",
       "2    187          2 2016-11-02   5062        814     1      0      0.0\n",
       "3    163          2 2016-11-02   5995        842     1      0      0.0\n",
       "4    941          2 2016-11-02   8178       1008     1      0      0.0"
      ]
     },
     "execution_count": 83,
     "metadata": {},
     "output_type": "execute_result"
    }
   ],
   "source": [
    "train2 = train[(train['Holiday']==0) & (train['Promo']==0)].sort_values('Date').reset_index().drop('index', axis=1)\n",
    "train2.head()"
   ]
  },
  {
   "cell_type": "code",
   "execution_count": 84,
   "metadata": {},
   "outputs": [],
   "source": [
    "from sklearn.model_selection import TimeSeriesSplit\n",
    "from sklearn.ensemble import RandomForestRegressor\n",
    "\n",
    "X_train = train2.loc[:int(train2.shape[0]),['Store', 'DayOfWeek']]\n",
    "y_train = train2.loc[:int(train2.shape[0]),['Sales']]\n",
    "X_test = train.loc[int(train.shape[0]*0.7):,['Store', 'DayOfWeek']]\n",
    "y_test = train.loc[int(train.shape[0]*0.7):,['Sales']]\n",
    "X_test_r = test.loc[:int(test.shape[0]),['Store', 'DayOfWeek']]\n",
    "#X_train, X_test, y_train, y_test = TimeSeriesSplit(X, y, test_size=0.3, random_state=17)"
   ]
  },
  {
   "cell_type": "code",
   "execution_count": 35,
   "metadata": {},
   "outputs": [
    {
     "name": "stdout",
     "output_type": "stream",
     "text": [
      "[     0      1      2 ... 112430 112431 112432] [112433 112434 112435 ... 224860 224861 224862]\n",
      "[     0      1      2 ... 224860 224861 224862] [224863 224864 224865 ... 337290 337291 337292]\n",
      "[     0      1      2 ... 337290 337291 337292] [337293 337294 337295 ... 449720 449721 449722]\n",
      "[     0      1      2 ... 449720 449721 449722] [449723 449724 449725 ... 562150 562151 562152]\n",
      "[     0      1      2 ... 562150 562151 562152] [562153 562154 562155 ... 674580 674581 674582]\n"
     ]
    }
   ],
   "source": [
    "from sklearn.model_selection import TimeSeriesSplit\n",
    "tscv = TimeSeriesSplit(n_splits=5)\n",
    "i = 1\n",
    "score = []\n",
    "for tr_index, val_index in tscv.split(X_train):\n",
    "    print(tr_index, val_index)"
   ]
  },
  {
   "cell_type": "code",
   "execution_count": 40,
   "metadata": {
    "collapsed": true,
    "jupyter": {
     "outputs_hidden": true,
     "source_hidden": true
    }
   },
   "outputs": [
    {
     "name": "stderr",
     "output_type": "stream",
     "text": [
      "/home/david/anaconda3/lib/python3.7/site-packages/ipykernel_launcher.py:17: DataConversionWarning: A column-vector y was passed when a 1d array was expected. Please change the shape of y to (n_samples,), for example using ravel().\n",
      "/home/david/anaconda3/lib/python3.7/site-packages/ipykernel_launcher.py:17: DataConversionWarning: A column-vector y was passed when a 1d array was expected. Please change the shape of y to (n_samples,), for example using ravel().\n",
      "/home/david/anaconda3/lib/python3.7/site-packages/ipykernel_launcher.py:17: DataConversionWarning: A column-vector y was passed when a 1d array was expected. Please change the shape of y to (n_samples,), for example using ravel().\n",
      "/home/david/anaconda3/lib/python3.7/site-packages/ipykernel_launcher.py:17: DataConversionWarning: A column-vector y was passed when a 1d array was expected. Please change the shape of y to (n_samples,), for example using ravel().\n",
      "/home/david/anaconda3/lib/python3.7/site-packages/ipykernel_launcher.py:17: DataConversionWarning: A column-vector y was passed when a 1d array was expected. Please change the shape of y to (n_samples,), for example using ravel().\n",
      "/home/david/anaconda3/lib/python3.7/site-packages/ipykernel_launcher.py:17: DataConversionWarning: A column-vector y was passed when a 1d array was expected. Please change the shape of y to (n_samples,), for example using ravel().\n",
      "/home/david/anaconda3/lib/python3.7/site-packages/ipykernel_launcher.py:17: DataConversionWarning: A column-vector y was passed when a 1d array was expected. Please change the shape of y to (n_samples,), for example using ravel().\n",
      "/home/david/anaconda3/lib/python3.7/site-packages/ipykernel_launcher.py:17: DataConversionWarning: A column-vector y was passed when a 1d array was expected. Please change the shape of y to (n_samples,), for example using ravel().\n",
      "/home/david/anaconda3/lib/python3.7/site-packages/ipykernel_launcher.py:17: DataConversionWarning: A column-vector y was passed when a 1d array was expected. Please change the shape of y to (n_samples,), for example using ravel().\n",
      "/home/david/anaconda3/lib/python3.7/site-packages/ipykernel_launcher.py:17: DataConversionWarning: A column-vector y was passed when a 1d array was expected. Please change the shape of y to (n_samples,), for example using ravel().\n",
      "/home/david/anaconda3/lib/python3.7/site-packages/ipykernel_launcher.py:17: DataConversionWarning: A column-vector y was passed when a 1d array was expected. Please change the shape of y to (n_samples,), for example using ravel().\n",
      "/home/david/anaconda3/lib/python3.7/site-packages/ipykernel_launcher.py:17: DataConversionWarning: A column-vector y was passed when a 1d array was expected. Please change the shape of y to (n_samples,), for example using ravel().\n",
      "/home/david/anaconda3/lib/python3.7/site-packages/ipykernel_launcher.py:17: DataConversionWarning: A column-vector y was passed when a 1d array was expected. Please change the shape of y to (n_samples,), for example using ravel().\n",
      "/home/david/anaconda3/lib/python3.7/site-packages/ipykernel_launcher.py:17: DataConversionWarning: A column-vector y was passed when a 1d array was expected. Please change the shape of y to (n_samples,), for example using ravel().\n",
      "/home/david/anaconda3/lib/python3.7/site-packages/ipykernel_launcher.py:17: DataConversionWarning: A column-vector y was passed when a 1d array was expected. Please change the shape of y to (n_samples,), for example using ravel().\n",
      "/home/david/anaconda3/lib/python3.7/site-packages/ipykernel_launcher.py:17: DataConversionWarning: A column-vector y was passed when a 1d array was expected. Please change the shape of y to (n_samples,), for example using ravel().\n"
     ]
    }
   ],
   "source": [
    "from sklearn.model_selection import TimeSeriesSplit\n",
    "tscv = TimeSeriesSplit(n_splits=2)\n",
    "i = 1\n",
    "score = []\n",
    "for tr_index, val_index in tscv.split(X_train):\n",
    "    X_tr, X_val = X_train.loc[tr_index], X_train.loc[val_index]\n",
    "    y_tr, y_val = y_train.loc[tr_index], y_train.loc[val_index]\n",
    "    for ne in np.linspace(50, 100, 2):\n",
    "        for md in np.linspace(10, 21, 2):\n",
    "            for msl in np.linspace(30, 51, 2):\n",
    "                rfr = RandomForestRegressor(\n",
    "                    \n",
    "                    \n",
    "                    n_estimators=int(ne),\n",
    "                    max_depth=int(md),\n",
    "                    min_samples_leaf=int(msl))\n",
    "                rfr.fit(X_tr, y_tr)\n",
    "                score.append([i,\n",
    "                              mf, \n",
    "                              ne,\n",
    "                              md, \n",
    "                              msl, \n",
    "                              rfr.score(X_val, y_val)])\n",
    "    i += 1"
   ]
  },
  {
   "cell_type": "code",
   "execution_count": null,
   "metadata": {},
   "outputs": [],
   "source": [
    "for_cycle=np.sort(train['Store'].unique())"
   ]
  },
  {
   "cell_type": "code",
   "execution_count": 85,
   "metadata": {},
   "outputs": [
    {
     "name": "stderr",
     "output_type": "stream",
     "text": [
      "/home/david/anaconda3/lib/python3.7/site-packages/ipykernel_launcher.py:15: DataConversionWarning: A column-vector y was passed when a 1d array was expected. Please change the shape of y to (n_samples,), for example using ravel().\n",
      "  from ipykernel import kernelapp as app\n"
     ]
    },
    {
     "name": "stdout",
     "output_type": "stream",
     "text": [
      "1\n"
     ]
    },
    {
     "name": "stderr",
     "output_type": "stream",
     "text": [
      "/home/david/anaconda3/lib/python3.7/site-packages/ipykernel_launcher.py:15: DataConversionWarning: A column-vector y was passed when a 1d array was expected. Please change the shape of y to (n_samples,), for example using ravel().\n",
      "  from ipykernel import kernelapp as app\n"
     ]
    },
    {
     "name": "stdout",
     "output_type": "stream",
     "text": [
      "1\n"
     ]
    },
    {
     "name": "stderr",
     "output_type": "stream",
     "text": [
      "/home/david/anaconda3/lib/python3.7/site-packages/ipykernel_launcher.py:15: DataConversionWarning: A column-vector y was passed when a 1d array was expected. Please change the shape of y to (n_samples,), for example using ravel().\n",
      "  from ipykernel import kernelapp as app\n"
     ]
    },
    {
     "name": "stdout",
     "output_type": "stream",
     "text": [
      "1\n"
     ]
    },
    {
     "name": "stderr",
     "output_type": "stream",
     "text": [
      "/home/david/anaconda3/lib/python3.7/site-packages/ipykernel_launcher.py:15: DataConversionWarning: A column-vector y was passed when a 1d array was expected. Please change the shape of y to (n_samples,), for example using ravel().\n",
      "  from ipykernel import kernelapp as app\n"
     ]
    },
    {
     "name": "stdout",
     "output_type": "stream",
     "text": [
      "1\n"
     ]
    },
    {
     "name": "stderr",
     "output_type": "stream",
     "text": [
      "/home/david/anaconda3/lib/python3.7/site-packages/ipykernel_launcher.py:15: DataConversionWarning: A column-vector y was passed when a 1d array was expected. Please change the shape of y to (n_samples,), for example using ravel().\n",
      "  from ipykernel import kernelapp as app\n"
     ]
    },
    {
     "name": "stdout",
     "output_type": "stream",
     "text": [
      "1\n"
     ]
    }
   ],
   "source": [
    "tscv = TimeSeriesSplit(n_splits=5)\n",
    "i = 1\n",
    "score = []\n",
    "\n",
    "for tr_index, val_index in tscv.split(X_train):\n",
    "    X_tr, X_val = X_train.loc[tr_index], X_train.loc[val_index]\n",
    "    y_tr, y_val = y_train.loc[tr_index], y_train.loc[val_index]\n",
    "\n",
    "    rfr = RandomForestRegressor(\n",
    "\n",
    "\n",
    "        n_estimators=100,\n",
    "        max_depth=45,\n",
    "        min_samples_leaf=5)\n",
    "    rfr.fit(X_tr, y_tr)\n",
    "    score.append([i,\n",
    "                  mf, \n",
    "                  ne,\n",
    "                  md, \n",
    "                  msl, \n",
    "                  rfr.score(X_val, y_val)])\n",
    "\n",
    "    print(i)"
   ]
  },
  {
   "cell_type": "code",
   "execution_count": 86,
   "metadata": {},
   "outputs": [
    {
     "data": {
      "text/plain": [
       "[[1, 0.0, 100.0, 21.0, 51.0, 0.924020976871715],\n",
       " [1, 0.0, 100.0, 21.0, 51.0, 0.8417200314487623],\n",
       " [1, 0.0, 100.0, 21.0, 51.0, 0.9339460172906715],\n",
       " [1, 0.0, 100.0, 21.0, 51.0, 0.8640951766301952],\n",
       " [1, 0.0, 100.0, 21.0, 51.0, 0.9259701973298913]]"
      ]
     },
     "execution_count": 86,
     "metadata": {},
     "output_type": "execute_result"
    }
   ],
   "source": [
    "score"
   ]
  },
  {
   "cell_type": "code",
   "execution_count": 55,
   "metadata": {},
   "outputs": [
    {
     "data": {
      "text/plain": [
       "array([   0.        , 9263.01758292, 8522.59052707, ..., 4553.6819907 ,\n",
       "       4452.53181889, 4793.17512297])"
      ]
     },
     "execution_count": 55,
     "metadata": {},
     "output_type": "execute_result"
    }
   ],
   "source": [
    "rfr.predict(X_test_r)"
   ]
  },
  {
   "cell_type": "code",
   "execution_count": 80,
   "metadata": {},
   "outputs": [
    {
     "data": {
      "text/plain": [
       "amax   2019-05-31\n",
       "amin   2019-04-14\n",
       "Name: Date, dtype: datetime64[ns]"
      ]
     },
     "execution_count": 80,
     "metadata": {},
     "output_type": "execute_result"
    }
   ],
   "source": [
    "test['Date'].agg([np.max, np.min])"
   ]
  },
  {
   "cell_type": "code",
   "execution_count": 73,
   "metadata": {},
   "outputs": [
    {
     "data": {
      "text/html": [
       "<div>\n",
       "<style scoped>\n",
       "    .dataframe tbody tr th:only-of-type {\n",
       "        vertical-align: middle;\n",
       "    }\n",
       "\n",
       "    .dataframe tbody tr th {\n",
       "        vertical-align: top;\n",
       "    }\n",
       "\n",
       "    .dataframe thead th {\n",
       "        text-align: right;\n",
       "    }\n",
       "</style>\n",
       "<table border=\"1\" class=\"dataframe\">\n",
       "  <thead>\n",
       "    <tr style=\"text-align: right;\">\n",
       "      <th></th>\n",
       "      <th>ID</th>\n",
       "      <th>Store</th>\n",
       "      <th>DayOfWeek</th>\n",
       "      <th>Holiday</th>\n",
       "    </tr>\n",
       "  </thead>\n",
       "  <tbody>\n",
       "    <tr>\n",
       "      <th>count</th>\n",
       "      <td>13104.000000</td>\n",
       "      <td>13104.000000</td>\n",
       "      <td>13104.000000</td>\n",
       "      <td>13104.0</td>\n",
       "    </tr>\n",
       "    <tr>\n",
       "      <th>mean</th>\n",
       "      <td>6552.500000</td>\n",
       "      <td>588.311355</td>\n",
       "      <td>2.958333</td>\n",
       "      <td>0.0</td>\n",
       "    </tr>\n",
       "    <tr>\n",
       "      <th>std</th>\n",
       "      <td>3782.943299</td>\n",
       "      <td>318.998619</td>\n",
       "      <td>1.999642</td>\n",
       "      <td>0.0</td>\n",
       "    </tr>\n",
       "    <tr>\n",
       "      <th>min</th>\n",
       "      <td>1.000000</td>\n",
       "      <td>12.000000</td>\n",
       "      <td>0.000000</td>\n",
       "      <td>0.0</td>\n",
       "    </tr>\n",
       "    <tr>\n",
       "      <th>25%</th>\n",
       "      <td>3276.750000</td>\n",
       "      <td>294.000000</td>\n",
       "      <td>1.000000</td>\n",
       "      <td>0.0</td>\n",
       "    </tr>\n",
       "    <tr>\n",
       "      <th>50%</th>\n",
       "      <td>6552.500000</td>\n",
       "      <td>600.000000</td>\n",
       "      <td>3.000000</td>\n",
       "      <td>0.0</td>\n",
       "    </tr>\n",
       "    <tr>\n",
       "      <th>75%</th>\n",
       "      <td>9828.250000</td>\n",
       "      <td>862.000000</td>\n",
       "      <td>5.000000</td>\n",
       "      <td>0.0</td>\n",
       "    </tr>\n",
       "    <tr>\n",
       "      <th>max</th>\n",
       "      <td>13104.000000</td>\n",
       "      <td>1113.000000</td>\n",
       "      <td>6.000000</td>\n",
       "      <td>0.0</td>\n",
       "    </tr>\n",
       "  </tbody>\n",
       "</table>\n",
       "</div>"
      ],
      "text/plain": [
       "                 ID         Store     DayOfWeek  Holiday\n",
       "count  13104.000000  13104.000000  13104.000000  13104.0\n",
       "mean    6552.500000    588.311355      2.958333      0.0\n",
       "std     3782.943299    318.998619      1.999642      0.0\n",
       "min        1.000000     12.000000      0.000000      0.0\n",
       "25%     3276.750000    294.000000      1.000000      0.0\n",
       "50%     6552.500000    600.000000      3.000000      0.0\n",
       "75%     9828.250000    862.000000      5.000000      0.0\n",
       "max    13104.000000   1113.000000      6.000000      0.0"
      ]
     },
     "execution_count": 73,
     "metadata": {},
     "output_type": "execute_result"
    }
   ],
   "source": [
    "test.describe()"
   ]
  },
  {
   "cell_type": "code",
   "execution_count": 124,
   "metadata": {},
   "outputs": [
    {
     "data": {
      "text/html": [
       "<div>\n",
       "<style scoped>\n",
       "    .dataframe tbody tr th:only-of-type {\n",
       "        vertical-align: middle;\n",
       "    }\n",
       "\n",
       "    .dataframe tbody tr th {\n",
       "        vertical-align: top;\n",
       "    }\n",
       "\n",
       "    .dataframe thead th {\n",
       "        text-align: right;\n",
       "    }\n",
       "</style>\n",
       "<table border=\"1\" class=\"dataframe\">\n",
       "  <thead>\n",
       "    <tr style=\"text-align: right;\">\n",
       "      <th></th>\n",
       "      <th>ID</th>\n",
       "      <th>Store</th>\n",
       "      <th>DayOfWeek</th>\n",
       "      <th>Date</th>\n",
       "      <th>Holiday</th>\n",
       "      <th>Sales</th>\n",
       "    </tr>\n",
       "  </thead>\n",
       "  <tbody>\n",
       "    <tr>\n",
       "      <th>0</th>\n",
       "      <td>1</td>\n",
       "      <td>12</td>\n",
       "      <td>6</td>\n",
       "      <td>2019-04-14</td>\n",
       "      <td>0</td>\n",
       "      <td>0.0</td>\n",
       "    </tr>\n",
       "    <tr>\n",
       "      <th>1</th>\n",
       "      <td>2</td>\n",
       "      <td>12</td>\n",
       "      <td>0</td>\n",
       "      <td>2019-04-15</td>\n",
       "      <td>0</td>\n",
       "      <td>10454.8</td>\n",
       "    </tr>\n",
       "    <tr>\n",
       "      <th>2</th>\n",
       "      <td>3</td>\n",
       "      <td>12</td>\n",
       "      <td>1</td>\n",
       "      <td>2019-04-16</td>\n",
       "      <td>0</td>\n",
       "      <td>9166.0</td>\n",
       "    </tr>\n",
       "    <tr>\n",
       "      <th>3</th>\n",
       "      <td>4</td>\n",
       "      <td>12</td>\n",
       "      <td>2</td>\n",
       "      <td>2019-04-17</td>\n",
       "      <td>0</td>\n",
       "      <td>8888.4</td>\n",
       "    </tr>\n",
       "    <tr>\n",
       "      <th>4</th>\n",
       "      <td>5</td>\n",
       "      <td>12</td>\n",
       "      <td>3</td>\n",
       "      <td>2019-04-18</td>\n",
       "      <td>0</td>\n",
       "      <td>7273.0</td>\n",
       "    </tr>\n",
       "    <tr>\n",
       "      <th>...</th>\n",
       "      <td>...</td>\n",
       "      <td>...</td>\n",
       "      <td>...</td>\n",
       "      <td>...</td>\n",
       "      <td>...</td>\n",
       "      <td>...</td>\n",
       "    </tr>\n",
       "    <tr>\n",
       "      <th>13099</th>\n",
       "      <td>13100</td>\n",
       "      <td>1113</td>\n",
       "      <td>0</td>\n",
       "      <td>2019-05-27</td>\n",
       "      <td>0</td>\n",
       "      <td>8350.6</td>\n",
       "    </tr>\n",
       "    <tr>\n",
       "      <th>13100</th>\n",
       "      <td>13101</td>\n",
       "      <td>1113</td>\n",
       "      <td>1</td>\n",
       "      <td>2019-05-28</td>\n",
       "      <td>0</td>\n",
       "      <td>5638.8</td>\n",
       "    </tr>\n",
       "    <tr>\n",
       "      <th>13101</th>\n",
       "      <td>13102</td>\n",
       "      <td>1113</td>\n",
       "      <td>2</td>\n",
       "      <td>2019-05-29</td>\n",
       "      <td>0</td>\n",
       "      <td>5727.6</td>\n",
       "    </tr>\n",
       "    <tr>\n",
       "      <th>13102</th>\n",
       "      <td>13103</td>\n",
       "      <td>1113</td>\n",
       "      <td>3</td>\n",
       "      <td>2019-05-30</td>\n",
       "      <td>0</td>\n",
       "      <td>5480.0</td>\n",
       "    </tr>\n",
       "    <tr>\n",
       "      <th>13103</th>\n",
       "      <td>13104</td>\n",
       "      <td>1113</td>\n",
       "      <td>4</td>\n",
       "      <td>2019-05-31</td>\n",
       "      <td>0</td>\n",
       "      <td>5136.0</td>\n",
       "    </tr>\n",
       "  </tbody>\n",
       "</table>\n",
       "<p>13104 rows × 6 columns</p>\n",
       "</div>"
      ],
      "text/plain": [
       "          ID  Store  DayOfWeek       Date  Holiday    Sales\n",
       "0          1     12          6 2019-04-14        0      0.0\n",
       "1          2     12          0 2019-04-15        0  10454.8\n",
       "2          3     12          1 2019-04-16        0   9166.0\n",
       "3          4     12          2 2019-04-17        0   8888.4\n",
       "4          5     12          3 2019-04-18        0   7273.0\n",
       "...      ...    ...        ...        ...      ...      ...\n",
       "13099  13100   1113          0 2019-05-27        0   8350.6\n",
       "13100  13101   1113          1 2019-05-28        0   5638.8\n",
       "13101  13102   1113          2 2019-05-29        0   5727.6\n",
       "13102  13103   1113          3 2019-05-30        0   5480.0\n",
       "13103  13104   1113          4 2019-05-31        0   5136.0\n",
       "\n",
       "[13104 rows x 6 columns]"
      ]
     },
     "execution_count": 124,
     "metadata": {},
     "output_type": "execute_result"
    }
   ],
   "source": [
    "s1 = pd.merge(test,sum_train_period , how='left', on=['Store', 'DayOfWeek'])\n",
    "s1"
   ]
  },
  {
   "cell_type": "code",
   "execution_count": 79,
   "metadata": {},
   "outputs": [
    {
     "data": {
      "text/html": [
       "<div>\n",
       "<style scoped>\n",
       "    .dataframe tbody tr th:only-of-type {\n",
       "        vertical-align: middle;\n",
       "    }\n",
       "\n",
       "    .dataframe tbody tr th {\n",
       "        vertical-align: top;\n",
       "    }\n",
       "\n",
       "    .dataframe thead th {\n",
       "        text-align: right;\n",
       "    }\n",
       "</style>\n",
       "<table border=\"1\" class=\"dataframe\">\n",
       "  <thead>\n",
       "    <tr style=\"text-align: right;\">\n",
       "      <th></th>\n",
       "      <th>ID</th>\n",
       "      <th>prediction</th>\n",
       "    </tr>\n",
       "  </thead>\n",
       "  <tbody>\n",
       "    <tr>\n",
       "      <th>0</th>\n",
       "      <td>1</td>\n",
       "      <td>0.000000</td>\n",
       "    </tr>\n",
       "    <tr>\n",
       "      <th>1</th>\n",
       "      <td>2</td>\n",
       "      <td>7509.996474</td>\n",
       "    </tr>\n",
       "    <tr>\n",
       "      <th>2</th>\n",
       "      <td>3</td>\n",
       "      <td>6850.193488</td>\n",
       "    </tr>\n",
       "    <tr>\n",
       "      <th>3</th>\n",
       "      <td>4</td>\n",
       "      <td>6767.574492</td>\n",
       "    </tr>\n",
       "    <tr>\n",
       "      <th>4</th>\n",
       "      <td>5</td>\n",
       "      <td>6749.319425</td>\n",
       "    </tr>\n",
       "  </tbody>\n",
       "</table>\n",
       "</div>"
      ],
      "text/plain": [
       "   ID   prediction\n",
       "0   1     0.000000\n",
       "1   2  7509.996474\n",
       "2   3  6850.193488\n",
       "3   4  6767.574492\n",
       "4   5  6749.319425"
      ]
     },
     "execution_count": 79,
     "metadata": {},
     "output_type": "execute_result"
    }
   ],
   "source": [
    "submission = test['ID'].to_frame()\n",
    "submission['prediction'] = rfr.predict(X_test_r)\n",
    "submission.head()"
   ]
  },
  {
   "cell_type": "code",
   "execution_count": 80,
   "metadata": {},
   "outputs": [],
   "source": [
    "submission.to_csv('sampleSubmission.csv', index=None)"
   ]
  },
  {
   "cell_type": "code",
   "execution_count": null,
   "metadata": {},
   "outputs": [],
   "source": []
  }
 ],
 "metadata": {
  "kernelspec": {
   "display_name": "Python 3",
   "language": "python",
   "name": "python3"
  },
  "language_info": {
   "codemirror_mode": {
    "name": "ipython",
    "version": 3
   },
   "file_extension": ".py",
   "mimetype": "text/x-python",
   "name": "python",
   "nbconvert_exporter": "python",
   "pygments_lexer": "ipython3",
   "version": "3.7.6"
  }
 },
 "nbformat": 4,
 "nbformat_minor": 4
}
